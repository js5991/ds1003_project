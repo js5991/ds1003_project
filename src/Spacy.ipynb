{
 "cells": [
  {
   "cell_type": "code",
   "execution_count": 2,
   "metadata": {
    "collapsed": false
   },
   "outputs": [],
   "source": [
    "\n",
    "import spacy\n",
    "import time\n",
    "import nltk"
   ]
  },
  {
   "cell_type": "code",
   "execution_count": 3,
   "metadata": {
    "collapsed": false
   },
   "outputs": [],
   "source": [
    "### Spacy load ###\n",
    "begin=time.time()\n",
    "\n",
    "nlp = spacy.load('en')\n",
    "begin=time.time()\n",
    "doc = nlp('I like green eggs and ham.A woman is walking through the door.')\n",
    "\n",
    "#for np in doc.noun_chunks:\n",
    "#    print(np.text, np.root.text, np.root.dep_, np.root.head.text)\n",
    "    # I I nsubj like\n",
    "    # green eggs eggs dobj like\n",
    "    # ham ham conj eggs\n"
   ]
  },
  {
   "cell_type": "code",
   "execution_count": 19,
   "metadata": {
    "collapsed": false
   },
   "outputs": [
    {
     "data": {
      "text/plain": [
       "spacy.tokens.doc.Doc"
      ]
     },
     "execution_count": 19,
     "metadata": {},
     "output_type": "execute_result"
    }
   ],
   "source": [
    "type(doc)"
   ]
  },
  {
   "cell_type": "code",
   "execution_count": 6,
   "metadata": {
    "collapsed": false
   },
   "outputs": [
    {
     "name": "stdout",
     "output_type": "stream",
     "text": [
      "0.0014889240264892578\n"
     ]
    },
    {
     "data": {
      "text/plain": [
       "[I,\n",
       " like,\n",
       " green,\n",
       " eggs,\n",
       " and,\n",
       " ham,\n",
       " .,\n",
       " A,\n",
       " woman,\n",
       " is,\n",
       " walking,\n",
       " through,\n",
       " the,\n",
       " door,\n",
       " .]"
      ]
     },
     "execution_count": 6,
     "metadata": {},
     "output_type": "execute_result"
    }
   ],
   "source": [
    "### tokenization ###\n",
    "begin=time.time()\n",
    "doc = nlp('I like green eggs and ham.A woman is walking through the door.')\n",
    "tokenlist=[]\n",
    "for token in doc:\n",
    "    tokenlist.append(token)\n",
    "print(time.time()-begin)\n",
    "tokenlist"
   ]
  },
  {
   "cell_type": "code",
   "execution_count": 5,
   "metadata": {
    "collapsed": false
   },
   "outputs": [
    {
     "name": "stdout",
     "output_type": "stream",
     "text": [
      "0.014837026596069336\n"
     ]
    },
    {
     "data": {
      "text/plain": [
       "['I',\n",
       " 'like',\n",
       " 'green',\n",
       " 'eggs',\n",
       " 'and',\n",
       " 'ham.A',\n",
       " 'woman',\n",
       " 'is',\n",
       " 'walking',\n",
       " 'through',\n",
       " 'the',\n",
       " 'door',\n",
       " '.']"
      ]
     },
     "execution_count": 5,
     "metadata": {},
     "output_type": "execute_result"
    }
   ],
   "source": [
    "begin=time.time()\n",
    "token=nltk.word_tokenize('I like green eggs and ham.A woman is walking through the door.')\n",
    "print(time.time()-begin)\n",
    "token"
   ]
  },
  {
   "cell_type": "code",
   "execution_count": 7,
   "metadata": {
    "collapsed": true
   },
   "outputs": [],
   "source": [
    "### Code to find the number of tokens longest common sequence ### \n",
    "def lcs(xstr, ystr):\n",
    "    if not xstr or not ystr:\n",
    "        return 0\n",
    "    x, xs, y, ys = xstr[0], xstr[1:], ystr[0], ystr[1:]\n",
    "    if x == y:\n",
    "        return 1 + lcs(xs, ys)\n",
    "    else:\n",
    "        return max(lcs(xstr, ys), lcs(xs, ystr))  "
   ]
  },
  {
   "cell_type": "code",
   "execution_count": 9,
   "metadata": {
    "collapsed": false
   },
   "outputs": [
    {
     "name": "stdout",
     "output_type": "stream",
     "text": [
      "0.0028388500213623047\n"
     ]
    },
    {
     "data": {
      "text/plain": [
       "15"
      ]
     },
     "execution_count": 9,
     "metadata": {},
     "output_type": "execute_result"
    }
   ],
   "source": [
    "begin=time.time()\n",
    "doc = nlp('I like green eggs and ham.A woman is walking through the door.')\n",
    "lcs_num=lcs(doc,doc)\n",
    "print(time.time()-begin)\n",
    "\n",
    "lcs_num"
   ]
  },
  {
   "cell_type": "code",
   "execution_count": 10,
   "metadata": {
    "collapsed": false
   },
   "outputs": [
    {
     "name": "stdout",
     "output_type": "stream",
     "text": [
      "0.002022981643676758\n"
     ]
    },
    {
     "data": {
      "text/plain": [
       "15"
      ]
     },
     "execution_count": 10,
     "metadata": {},
     "output_type": "execute_result"
    }
   ],
   "source": [
    "begin=time.time()\n",
    "token=nltk.word_tokenize('I like green eggs and ham. A woman is walking through the door.')\n",
    "lcs_num=lcs(token,token)\n",
    "print(time.time()-begin)\n",
    "lcs_num"
   ]
  },
  {
   "cell_type": "code",
   "execution_count": 11,
   "metadata": {
    "collapsed": false
   },
   "outputs": [
    {
     "data": {
      "text/plain": [
       "3"
      ]
     },
     "execution_count": 11,
     "metadata": {},
     "output_type": "execute_result"
    }
   ],
   "source": [
    "### edit_distance ###\n",
    "\n",
    "token2=nltk.word_tokenize('I dont like red eggs and ham. A man is walking through the door.')\n",
    "nltk.edit_distance(token,token2)"
   ]
  },
  {
   "cell_type": "code",
   "execution_count": 12,
   "metadata": {
    "collapsed": false
   },
   "outputs": [
    {
     "name": "stdout",
     "output_type": "stream",
     "text": [
      "I\n",
      "I like green eggs and ham.\n",
      "A woman is walking through the door.\n"
     ]
    }
   ],
   "source": [
    "# Get first token of the processed document\n",
    "token = doc[0]\n",
    "print(token)\n",
    "\n",
    "# Print sentences (one sentence per line)\n",
    "for sent in doc.sents:\n",
    "    print(sent)"
   ]
  },
  {
   "cell_type": "code",
   "execution_count": 13,
   "metadata": {
    "collapsed": false
   },
   "outputs": [
    {
     "name": "stdout",
     "output_type": "stream",
     "text": [
      "I - PRON\n",
      "like - VERB\n",
      "green - ADJ\n",
      "eggs - NOUN\n",
      "and - CCONJ\n",
      "ham - NOUN\n",
      ". - PUNCT\n",
      "A - DET\n",
      "woman - NOUN\n",
      "is - VERB\n",
      "walking - VERB\n",
      "through - ADP\n",
      "the - DET\n",
      "door - NOUN\n",
      ". - PUNCT\n"
     ]
    }
   ],
   "source": [
    "# For each token, print corresponding part of speech tag\n",
    "for token in doc:\n",
    "    print('{} - {}'.format(token, token.pos_))"
   ]
  },
  {
   "cell_type": "code",
   "execution_count": 14,
   "metadata": {
    "collapsed": false
   },
   "outputs": [
    {
     "name": "stdout",
     "output_type": "stream",
     "text": [
      "I --> [I, like]\n",
      "like --> []\n",
      "green --> [green, eggs, eggs, like]\n",
      "eggs --> [eggs, like]\n",
      "and --> [and, eggs, eggs, like]\n",
      "ham --> [ham, eggs, eggs, like]\n",
      ". --> [., like]\n",
      "A --> [A, woman, woman, walking]\n",
      "woman --> [woman, walking]\n",
      "is --> [is, walking]\n",
      "walking --> []\n",
      "through --> [through, walking]\n",
      "the --> [the, door, door, through, through, walking]\n",
      "door --> [door, through, through, walking]\n",
      ". --> [., walking]\n",
      "I-nsubj-> like-ROOT\n",
      "\n",
      "green-amod-> eggs-dobj-> eggs-dobj-> like-ROOT\n",
      "eggs-dobj-> like-ROOT\n",
      "and-cc-> eggs-dobj-> eggs-dobj-> like-ROOT\n",
      "ham-conj-> eggs-dobj-> eggs-dobj-> like-ROOT\n",
      ".-punct-> like-ROOT\n",
      "A-det-> woman-nsubj-> woman-nsubj-> walking-ROOT\n",
      "woman-nsubj-> walking-ROOT\n",
      "is-aux-> walking-ROOT\n",
      "\n",
      "through-prep-> walking-ROOT\n",
      "the-det-> door-pobj-> door-pobj-> through-prep-> through-prep-> walking-ROOT\n",
      "door-pobj-> through-prep-> through-prep-> walking-ROOT\n",
      ".-punct-> walking-ROOT\n"
     ]
    }
   ],
   "source": [
    "### dependency parsing ###\n",
    "#Write a function that walks up the syntactic tree of the given token and collects all tokens to the root token (including root token).\n",
    "\n",
    "def tokens_to_root(token):\n",
    "    \"\"\"\n",
    "    Walk up the syntactic tree, collecting tokens to the root of the given `token`.\n",
    "    :param token: Spacy token\n",
    "    :return: list of Spacy tokens\n",
    "    \"\"\"\n",
    "    tokens_to_r = []\n",
    "    while token.head is not token:\n",
    "        tokens_to_r.append(token)\n",
    "        token = token.head\n",
    "        tokens_to_r.append(token)\n",
    "\n",
    "    return tokens_to_r\n",
    "\n",
    "# For every token in document, print it's tokens to the root\n",
    "for token in doc:\n",
    "    print('{} --> {}'.format(token, tokens_to_root(token)))\n",
    "\n",
    "# Print dependency labels of the tokens\n",
    "for token in doc:\n",
    "    print('-> '.join(['{}-{}'.format(dependent_token, dependent_token.dep_) for dependent_token in tokens_to_root(token)]))"
   ]
  },
  {
   "cell_type": "code",
   "execution_count": 18,
   "metadata": {
    "collapsed": false
   },
   "outputs": [
    {
     "name": "stdout",
     "output_type": "stream",
     "text": [
      "DOC 1\n",
      "JAY - PERSON\n",
      "DOC 4\n",
      "May 3rd - DATE\n"
     ]
    },
    {
     "data": {
      "text/plain": [
       "1"
      ]
     },
     "execution_count": 18,
     "metadata": {},
     "output_type": "execute_result"
    }
   ],
   "source": [
    "# Print all named entities with named entity types\n",
    "doc_1 = nlp('WHO IS JAY?')\n",
    "doc_2 = nlp('Who is jay?')\n",
    "doc_3=nlp('Hpp is Happy')\n",
    "doc_4=nlp(u'Xiaoming birthday is May 3rd')\n",
    "for ent in doc_2.ents:\n",
    "    print('DOC 2')\n",
    "    print('{} - {}'.format(ent, ent.label_))\n",
    "for ent in doc_1.ents:\n",
    "    print('DOC 1')\n",
    "    print('{} - {}'.format(ent, ent.label_))\n",
    "for ent in doc_3.ents:\n",
    "    print('DOC 3')\n",
    "    print('{} - {}'.format(ent, ent.label_))\n",
    "for ent in doc_4.ents:\n",
    "    print('DOC 4')\n",
    "    print('{} - {}'.format(ent, ent.label_))    \n",
    "       \n",
    "len(doc_1.ents)\n"
   ]
  },
  {
   "cell_type": "code",
   "execution_count": 24,
   "metadata": {
    "collapsed": false
   },
   "outputs": [
    {
     "name": "stdout",
     "output_type": "stream",
     "text": [
      "[I, Paris, I, my old friend, uni]\n"
     ]
    }
   ],
   "source": [
    "# Print noun chunks for doc_2\n",
    "print([chunk for chunk in doc_2.noun_chunks])"
   ]
  },
  {
   "cell_type": "code",
   "execution_count": 25,
   "metadata": {
    "collapsed": false
   },
   "outputs": [
    {
     "name": "stdout",
     "output_type": "stream",
     "text": [
      "I , -4.064180850982666\n",
      "went , -8.474893569946289\n",
      "to , -3.83851957321167\n",
      "Paris , -11.6917724609375\n",
      "where , -7.183883190155029\n",
      "I , -4.064180850982666\n",
      "met , -9.784490585327148\n",
      "my , -5.918124675750732\n",
      "old , -7.7954816818237305\n",
      "friend , -8.825821876525879\n",
      "Jack , -11.20296573638916\n",
      "from , -6.028810501098633\n",
      "uni , -19.579313278198242\n",
      ". , -3.0729479789733887\n"
     ]
    }
   ],
   "source": [
    "# For every token in doc_2, print log-probability of the word, estimated from counts from a large corpus \n",
    "for token in doc_2:\n",
    "    print(token, ',', token.prob)"
   ]
  },
  {
   "cell_type": "code",
   "execution_count": 20,
   "metadata": {
    "collapsed": false
   },
   "outputs": [
    {
     "name": "stdout",
     "output_type": "stream",
     "text": [
      "0.0\n",
      "0.0\n",
      "\n",
      "0.569403101179\n",
      "0.323890751106\n",
      "0.832116326852\n"
     ]
    }
   ],
   "source": [
    "### similarity ###\n",
    "# For a given document, calculate similarity between 'apples' and 'oranges' and 'boots' and 'hippos'\n",
    "doc = nlp(u\"Apples and oranges are similar. Boots and hippos aren't.\")\n",
    "apples = doc[0]\n",
    "oranges = doc[2]\n",
    "boots = doc[6]\n",
    "hippos = doc[8]\n",
    "print(apples.similarity(oranges))\n",
    "print(boots.similarity(hippos))\n",
    "\n",
    "print()\n",
    "# Print similarity between sentence and word 'fruit'\n",
    "apples_sent, boots_sent = doc.sents\n",
    "fruit = doc.vocab[u'fruit']\n",
    "print(apples_sent.similarity(fruit))\n",
    "print(boots_sent.similarity(fruit))\n",
    "print(boots_sent.similarity(apples_sent))"
   ]
  },
  {
   "cell_type": "markdown",
   "metadata": {},
   "source": [
    "### Example of nltk dependency grammar \n",
    "#### not useful for dependency parsing"
   ]
  },
  {
   "cell_type": "code",
   "execution_count": 29,
   "metadata": {
    "collapsed": true
   },
   "outputs": [],
   "source": [
    "import nltk\n"
   ]
  },
  {
   "cell_type": "code",
   "execution_count": 30,
   "metadata": {
    "collapsed": false
   },
   "outputs": [
    {
     "name": "stdout",
     "output_type": "stream",
     "text": [
      "Dependency grammar with 7 productions\n",
      "  'shot' -> 'I'\n",
      "  'shot' -> 'elephant'\n",
      "  'shot' -> 'in'\n",
      "  'elephant' -> 'an'\n",
      "  'elephant' -> 'in'\n",
      "  'in' -> 'pajamas'\n",
      "  'pajamas' -> 'my'\n"
     ]
    }
   ],
   "source": [
    "groucho_dep_grammar = nltk.DependencyGrammar.fromstring(\"\"\"\n",
    "'shot' -> 'I' | 'elephant' | 'in'\n",
    "'elephant' -> 'an' | 'in'\n",
    "'in' -> 'pajamas'\n",
    "'pajamas' -> 'my'\n",
    "\"\"\")\n",
    "print(groucho_dep_grammar)"
   ]
  },
  {
   "cell_type": "code",
   "execution_count": 31,
   "metadata": {
    "collapsed": false
   },
   "outputs": [
    {
     "name": "stdout",
     "output_type": "stream",
     "text": [
      "(shot I (elephant an (in (pajamas my))))\n",
      "(shot I (elephant an) (in (pajamas my)))\n"
     ]
    }
   ],
   "source": [
    "pdp = nltk.ProjectiveDependencyParser(groucho_dep_grammar)\n",
    "sent = 'I shot an elephant in my pajamas'.split()\n",
    "trees = pdp.parse(sent)\n",
    "for tree in trees:\n",
    "     print(tree)"
   ]
  },
  {
   "cell_type": "code",
   "execution_count": null,
   "metadata": {
    "collapsed": true
   },
   "outputs": [],
   "source": []
  }
 ],
 "metadata": {
  "kernelspec": {
   "display_name": "Python [conda root]",
   "language": "python",
   "name": "conda-root-py"
  },
  "language_info": {
   "codemirror_mode": {
    "name": "ipython",
    "version": 3
   },
   "file_extension": ".py",
   "mimetype": "text/x-python",
   "name": "python",
   "nbconvert_exporter": "python",
   "pygments_lexer": "ipython3",
   "version": "3.5.2"
  }
 },
 "nbformat": 4,
 "nbformat_minor": 2
}
