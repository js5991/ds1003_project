{
 "cells": [
  {
   "cell_type": "code",
   "execution_count": 2,
   "metadata": {
    "collapsed": false
   },
   "outputs": [],
   "source": [
    "import pandas as pd\n",
    "import numpy as np"
   ]
  },
  {
   "cell_type": "code",
   "execution_count": 25,
   "metadata": {
    "collapsed": false
   },
   "outputs": [],
   "source": [
    "# load data\n",
    "#full_data = pd.read_csv(\"../data/questions.csv\")\n",
    "\n",
    "# split dataset\n",
    "def split_dataset(full_data, train_ratio, validation_ratio, test_ratio):\n",
    "    \"\"\"\n",
    "    Function that splits the dataset into train, validation, and test\n",
    "    \"\"\"\n",
    "    random_idx = np.random.permutation(len(full_data))\n",
    "    train_threshold = int(round(train_ratio*len(full_data)))\n",
    "    validation_threshold = int(round((train_ratio+validation_ratio)*len(full_data)))\n",
    "    \n",
    "    train_set = full_data.iloc[random_idx[:train_threshold]]\n",
    "    validation_set = full_data.iloc[random_idx[train_threshold:validation_threshold]]\n",
    "    test_set = full_data.iloc[random_idx[validation_threshold:]]\n",
    "    \n",
    "    return train_set, validation_set, test_set\n",
    "# train_set, validation_set, test_set = split_dataset(full_data, 0.8, 0.1, 0.1)\n",
    "# train_set.to_csv(\"../data/train.csv\", index=False)\n",
    "# validation_set.to_csv(\"../data/validation.csv\", index=False)\n",
    "# test_set.to_csv(\"../data/test.csv\", index=False)\n",
    "\n",
    "# load dataset\n",
    "def load_datasets(load_dir = \"../data\"):\n",
    "    \"\"\"\n",
    "    Function that loads the dataset\n",
    "    \"\"\"\n",
    "    train_set = pd.read_csv(\"../data/train.csv\")\n",
    "    validation_set = pd.read_csv(\"../data/validation.csv\")\n",
    "    test_set = pd.read_csv(\"../data/test.csv\")\n",
    "    return train_set, validation_set, test_set\n",
    "train_set, validation_set, test_set = load_datasets()\n"
   ]
  },
  {
   "cell_type": "code",
   "execution_count": 39,
   "metadata": {
    "collapsed": false
   },
   "outputs": [
    {
     "name": "stdout",
     "output_type": "stream",
     "text": [
      "Did Hitler have children and where are they?\n",
      "Did Hitler have any children?\n"
     ]
    }
   ],
   "source": [
    "i = 290\n",
    "print train_set.iloc[i][\"question1\"]\n",
    "print train_set.iloc[i][\"question2\"]"
   ]
  },
  {
   "cell_type": "markdown",
   "metadata": {},
   "source": [
    "np.unique(test_set[\"is_duplicate\"])\n",
    "np.sum(test_set[\"is_duplicate\"])/float(len(test_set))"
   ]
  },
  {
   "cell_type": "code",
   "execution_count": null,
   "metadata": {
    "collapsed": true
   },
   "outputs": [],
   "source": [
    "\n",
    "    \n",
    "    \n",
    "    "
   ]
  }
 ],
 "metadata": {
  "anaconda-cloud": {},
  "kernelspec": {
   "display_name": "Python [conda root]",
   "language": "python",
   "name": "conda-root-py"
  },
  "language_info": {
   "codemirror_mode": {
    "name": "ipython",
    "version": 2
   },
   "file_extension": ".py",
   "mimetype": "text/x-python",
   "name": "python",
   "nbconvert_exporter": "python",
   "pygments_lexer": "ipython2",
   "version": "2.7.13"
  }
 },
 "nbformat": 4,
 "nbformat_minor": 1
}
